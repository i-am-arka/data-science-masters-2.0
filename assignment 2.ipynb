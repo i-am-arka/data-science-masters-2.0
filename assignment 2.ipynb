{
 "cells": [
  {
   "cell_type": "markdown",
   "id": "8480d0fc-d582-4137-84d5-8aadd7216770",
   "metadata": {},
   "source": [
    "#1\n",
    "we can comment a code in python by using #, \"\"\" \"\"\" or ''' '''.\n",
    "the different type of comments are:\n",
    "    i) single line comment or #\n",
    "    ii) multi line comment or \"\"\" \"\"\" or ''' '''"
   ]
  },
  {
   "cell_type": "markdown",
   "id": "a0e8ef5e-7901-4616-908c-fce422466d85",
   "metadata": {},
   "source": [
    "#2\n",
    "variables mean containers in python.these containers can hold different type of values.\n",
    "eg: i= 234,j= 67.54,h='pw skills' etc\n",
    "the way of declaring and assigning a variable in python is variable = value.\n",
    "eg: num= 743, here num is the variable and 743 is the assigned value.\n"
   ]
  },
  {
   "cell_type": "markdown",
   "id": "05384925-4ea7-4fe6-ba0e-34523bbfbc14",
   "metadata": {},
   "source": [
    "#3\n",
    "in python we convert one datatype to another by typecasting.\n",
    "there are 2 types of type casting:\n",
    "    i) explicit typecasting: in this the user explicitly types a code for typecasting.\n",
    "    ii) implicit typecasting: in this the interpreter internally converts a datatype to another datatype."
   ]
  },
  {
   "cell_type": "markdown",
   "id": "4e701506-0b19-4bb8-859d-b5aaafefe6d4",
   "metadata": {},
   "source": [
    "#4\n",
    "we can write and execute a python script in command line by typing cmd in the search bar and then typing python in the command prompt.\n",
    "but this to work we need python installed in our system."
   ]
  },
  {
   "cell_type": "code",
   "execution_count": 8,
   "id": "ec7816af-3711-414b-9e0f-843fb28627fe",
   "metadata": {},
   "outputs": [
    {
     "data": {
      "text/plain": [
       "[2, 3]"
      ]
     },
     "execution_count": 8,
     "metadata": {},
     "output_type": "execute_result"
    }
   ],
   "source": [
    "#5\n",
    "my_list=[1,2,3,4,5]\n",
    "my_list[1:3]"
   ]
  },
  {
   "cell_type": "markdown",
   "id": "50f161ff-f5ea-48ea-b686-c53d6ce95c4f",
   "metadata": {},
   "source": [
    "#6\n",
    "a complex number is a number in mathematics that has both real and imaginary parts.\n",
    "in python a complex number can be represented as 3+7j,454+4543j etc."
   ]
  },
  {
   "cell_type": "markdown",
   "id": "009cc29f-2330-420a-9add-87eddc115751",
   "metadata": {},
   "source": [
    "#7\n",
    "age = 25"
   ]
  },
  {
   "cell_type": "markdown",
   "id": "117063ee-d346-4add-9879-be2b93482363",
   "metadata": {},
   "source": [
    "#8\n",
    "price = 9.99\n",
    "this variable belongs to the float datatype."
   ]
  },
  {
   "cell_type": "markdown",
   "id": "50d11710-17fb-4009-a098-8b52911dc698",
   "metadata": {},
   "source": [
    "#9\n",
    "name = 'arka rakshit'\n",
    "print(name)\n"
   ]
  },
  {
   "cell_type": "code",
   "execution_count": 10,
   "id": "703994dc-09ab-4edd-9113-27d55961fb82",
   "metadata": {},
   "outputs": [
    {
     "data": {
      "text/plain": [
       "'World'"
      ]
     },
     "execution_count": 10,
     "metadata": {},
     "output_type": "execute_result"
    }
   ],
   "source": [
    "#10\n",
    "a=\"Hello, World!\"\n",
    "a[7:12]"
   ]
  },
  {
   "cell_type": "code",
   "execution_count": 15,
   "id": "1e976935-1a72-437b-ba07-98519432908c",
   "metadata": {},
   "outputs": [
    {
     "name": "stdin",
     "output_type": "stream",
     "text": [
      "enter student or not student : student\n"
     ]
    },
    {
     "name": "stdout",
     "output_type": "stream",
     "text": [
      "True\n"
     ]
    }
   ],
   "source": [
    "#11\n",
    "a= input(\"enter student or not student :\")\n",
    "if a== \"student\" or a==\"STUDENT\":\n",
    "    is_student= True\n",
    "    print(is_student)\n",
    "else:\n",
    "    is_student= False\n",
    "    print(is_student)"
   ]
  },
  {
   "cell_type": "code",
   "execution_count": null,
   "id": "3ff8d069-fecc-4a49-a91b-455996155040",
   "metadata": {},
   "outputs": [],
   "source": []
  }
 ],
 "metadata": {
  "kernelspec": {
   "display_name": "Python 3 (ipykernel)",
   "language": "python",
   "name": "python3"
  },
  "language_info": {
   "codemirror_mode": {
    "name": "ipython",
    "version": 3
   },
   "file_extension": ".py",
   "mimetype": "text/x-python",
   "name": "python",
   "nbconvert_exporter": "python",
   "pygments_lexer": "ipython3",
   "version": "3.10.8"
  }
 },
 "nbformat": 4,
 "nbformat_minor": 5
}
