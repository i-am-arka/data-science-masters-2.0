{
 "cells": [
  {
   "cell_type": "code",
   "execution_count": null,
   "id": "2e9f5eab-9a47-4206-849a-52af168e78b4",
   "metadata": {},
   "outputs": [],
   "source": [
    "1.\n",
    "i)  s = “pwskills”\n",
    "ii)  l = [1,2,3,4,5,6,True,”pwskills”,’a’]\n",
    "iii) f = 24.45\n",
    "iv) t=(1,2,3,4,5,False,”arka”)\n"
   ]
  },
  {
   "cell_type": "code",
   "execution_count": null,
   "id": "e374e63f-8ff0-442c-80f0-bd581b6d1dbb",
   "metadata": {},
   "outputs": [],
   "source": [
    "2.\n",
    "i) string\n",
    "ii)string\n",
    "iii)list\n",
    "iv)integer\n"
   ]
  },
  {
   "cell_type": "code",
   "execution_count": null,
   "id": "4a361e3e-31c1-42a6-b849-eb254c7b107a",
   "metadata": {},
   "outputs": [],
   "source": [
    "3.\n",
    "i)it is used for division.\n",
    "    2/2=1\n",
    "ii)it is used for calculating the remainder.\n",
    "   3%2=1\n",
    "iii)it is used for calculating the division floor value.\n",
    "    4//3=1\n",
    "iv) it is used for calculating raised to the power of.\n",
    "   2**3=8\n"
   ]
  },
  {
   "cell_type": "code",
   "execution_count": 13,
   "id": "68f63c29-0183-4cf6-ac1e-e816170840f2",
   "metadata": {},
   "outputs": [
    {
     "name": "stdout",
     "output_type": "stream",
     "text": [
      "1\n",
      "<class 'int'>\n",
      "2\n",
      "<class 'int'>\n",
      "3\n",
      "<class 'int'>\n",
      "4\n",
      "<class 'int'>\n",
      "5\n",
      "<class 'int'>\n",
      "6\n",
      "<class 'int'>\n",
      "7.5\n",
      "<class 'float'>\n",
      "pwskills\n",
      "<class 'str'>\n",
      "True\n",
      "<class 'bool'>\n",
      "(4+7j)\n",
      "<class 'complex'>\n"
     ]
    }
   ],
   "source": [
    "#4\n",
    "a=[1,2,3,4,5,6,7.5,\"pwskills\",True,4+7j]\n",
    "for i in a:\n",
    "     print(i)  \n",
    "     print(type(i))\n"
   ]
  },
  {
   "cell_type": "code",
   "execution_count": 19,
   "id": "d494d5f9-5c20-4edd-99cd-135e02384f9a",
   "metadata": {},
   "outputs": [
    {
     "name": "stdin",
     "output_type": "stream",
     "text": [
      "enter number 1 225\n",
      "enter number 2 5\n"
     ]
    },
    {
     "name": "stdout",
     "output_type": "stream",
     "text": [
      "divisible\n",
      "the number is divisible 45 times\n"
     ]
    }
   ],
   "source": [
    "# 5\n",
    "num1=int(input(\"enter number 1\"))\n",
    "num2=int(input(\"enter number 2\"))\n",
    "while(num1>=num2):\n",
    "        if(num1%num2 != 0):\n",
    "            print(\"not divisible\")\n",
    "            break\n",
    "        else:\n",
    "            print(\"divisible\")\n",
    "            q=num1//num2\n",
    "            break\n",
    "print(\"the number is divisible\",q, \"times\")\n",
    "        \n",
    "    "
   ]
  },
  {
   "cell_type": "code",
   "execution_count": 20,
   "id": "c4590f94-d55a-4a62-8a89-eeb2c9168515",
   "metadata": {},
   "outputs": [
    {
     "name": "stdout",
     "output_type": "stream",
     "text": [
      "1  is not divisible by 3\n",
      "2  is not divisible by 3\n",
      "3  is divisible by 3\n",
      "4  is not divisible by 3\n",
      "5  is not divisible by 3\n",
      "6  is divisible by 3\n",
      "7  is not divisible by 3\n",
      "8  is not divisible by 3\n",
      "9  is divisible by 3\n",
      "10  is not divisible by 3\n",
      "11  is not divisible by 3\n",
      "12  is divisible by 3\n",
      "13  is not divisible by 3\n",
      "14  is not divisible by 3\n",
      "15  is divisible by 3\n",
      "16  is not divisible by 3\n",
      "17  is not divisible by 3\n",
      "18  is divisible by 3\n",
      "19  is not divisible by 3\n",
      "20  is not divisible by 3\n",
      "21  is divisible by 3\n",
      "22  is not divisible by 3\n",
      "23  is not divisible by 3\n",
      "24  is divisible by 3\n",
      "25  is not divisible by 3\n"
     ]
    }
   ],
   "source": [
    "#6\n",
    "l=[1,2,3,4,5,6,7,8,9,10,11,12,13,14,15,16,17,18,19,20,21,22,23,24,25]\n",
    "for i in l:\n",
    "    if (i%3==0):\n",
    "        print(i,\" is divisible by 3\")\n",
    "    else:\n",
    "        print(i,\" is not divisible by 3\")"
   ]
  },
  {
   "cell_type": "code",
   "execution_count": 24,
   "id": "5ddf9c9f-7959-4a64-a540-5088d9e1b131",
   "metadata": {},
   "outputs": [
    {
     "name": "stdout",
     "output_type": "stream",
     "text": [
      "[1, 2, True, 3.5, (5+6j)]\n",
      "[1, 2, 100, 3.5, (5+6j)]\n"
     ]
    }
   ],
   "source": [
    "#7 mutable and immutable data type\n",
    "#a mutable datatype is a datatype whose data can be changed. eg.- list\n",
    "t = [1,2,True,3.5,5+6j]\n",
    "\n",
    "print(t)\n",
    "t[2]=100\n",
    "print(t)"
   ]
  },
  {
   "cell_type": "code",
   "execution_count": 26,
   "id": "327e626e-b03b-4dbe-89bf-10c49f0f72af",
   "metadata": {},
   "outputs": [
    {
     "name": "stdout",
     "output_type": "stream",
     "text": [
      "arka\n"
     ]
    },
    {
     "ename": "TypeError",
     "evalue": "'str' object does not support item assignment",
     "output_type": "error",
     "traceback": [
      "\u001b[0;31m---------------------------------------------------------------------------\u001b[0m",
      "\u001b[0;31mTypeError\u001b[0m                                 Traceback (most recent call last)",
      "Cell \u001b[0;32mIn[26], line 4\u001b[0m\n\u001b[1;32m      2\u001b[0m a\u001b[38;5;241m=\u001b[39m\u001b[38;5;124m\"\u001b[39m\u001b[38;5;124marka\u001b[39m\u001b[38;5;124m\"\u001b[39m\n\u001b[1;32m      3\u001b[0m \u001b[38;5;28mprint\u001b[39m(a)\n\u001b[0;32m----> 4\u001b[0m \u001b[43ma\u001b[49m\u001b[43m[\u001b[49m\u001b[38;5;241;43m2\u001b[39;49m\u001b[43m]\u001b[49m\u001b[38;5;241m=\u001b[39m\u001b[38;5;124m\"\u001b[39m\u001b[38;5;124mm\u001b[39m\u001b[38;5;124m\"\u001b[39m\n\u001b[1;32m      5\u001b[0m \u001b[38;5;28mprint\u001b[39m(a)\n",
      "\u001b[0;31mTypeError\u001b[0m: 'str' object does not support item assignment"
     ]
    }
   ],
   "source": [
    "# an immutable datatype is a datatype whose data cannot be changed.eg- string\n",
    "a=\"arka\"\n",
    "print(a)\n",
    "a[2]=\"m\"\n",
    "print(a)"
   ]
  },
  {
   "cell_type": "code",
   "execution_count": null,
   "id": "2819fd5e-1892-456c-8461-f7e6adcdca4d",
   "metadata": {},
   "outputs": [],
   "source": []
  }
 ],
 "metadata": {
  "kernelspec": {
   "display_name": "Python 3 (ipykernel)",
   "language": "python",
   "name": "python3"
  },
  "language_info": {
   "codemirror_mode": {
    "name": "ipython",
    "version": 3
   },
   "file_extension": ".py",
   "mimetype": "text/x-python",
   "name": "python",
   "nbconvert_exporter": "python",
   "pygments_lexer": "ipython3",
   "version": "3.10.8"
  }
 },
 "nbformat": 4,
 "nbformat_minor": 5
}
